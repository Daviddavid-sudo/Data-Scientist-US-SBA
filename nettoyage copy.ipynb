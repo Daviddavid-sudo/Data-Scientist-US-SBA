{
 "cells": [
  {
   "cell_type": "code",
   "execution_count": 70,
   "metadata": {},
   "outputs": [],
   "source": [
    "import pandas as pd\n",
    "import numpy as np\n",
    "from sklearn.preprocessing import OneHotEncoder"
   ]
  },
  {
   "cell_type": "code",
   "execution_count": 71,
   "metadata": {},
   "outputs": [
    {
     "name": "stderr",
     "output_type": "stream",
     "text": [
      "/tmp/ipykernel_202075/3536806131.py:1: DtypeWarning: Columns (9) have mixed types. Specify dtype option on import or set low_memory=False.\n",
      "  df = pd.read_csv(\"SBAnational.csv\")\n"
     ]
    }
   ],
   "source": [
    "df = pd.read_csv(\"SBAnational.csv\")"
   ]
  },
  {
   "cell_type": "markdown",
   "metadata": {},
   "source": [
    "## State"
   ]
  },
  {
   "cell_type": "code",
   "execution_count": 72,
   "metadata": {},
   "outputs": [],
   "source": [
    "df.loc[(df[\"City\"] == \"PENNSVILLE\") & (df[\"State\"].isnull()), \"State\"] = \"NY\"\n",
    "df.loc[(df[\"City\"] == \"JOHNSTOWN NY\t\") & (df[\"State\"].isnull()), \"State\"] = \"NY\"\n",
    "df.loc[(df[\"City\"] == \"CAMERON PARK\") & (df[\"State\"].isnull()), \"State\"] = \"CA\"\n",
    "df.loc[(df[\"City\"] == \"WICHITA\") & (df[\"State\"].isnull()), \"State\"] = \"KS\"\n",
    "df.loc[(df[\"City\"] == \"PALM BEACH GARDENS\") & (df[\"State\"].isnull()), \"State\"] = \"FL\"\n",
    "df.loc[(df[\"City\"] == \"CASCO\") & (df[\"State\"].isnull()), \"State\"] = \"WI\"\n",
    "df.loc[(df[\"City\"] == \"SOMERSET\") & (df[\"State\"].isnull()), \"State\"] = \"WI\"\n",
    "df.loc[(df[\"City\"] == \"SALT LAKE CITY\t\") & (df[\"State\"].isnull()), \"State\"] = \"UT\"\n",
    "df.loc[(df[\"City\"] == \"LAKE OZARK\t\") & (df[\"State\"].isnull()), \"State\"] = \"MO\""
   ]
  },
  {
   "cell_type": "code",
   "execution_count": 73,
   "metadata": {},
   "outputs": [],
   "source": [
    "df.loc[49244, \"State\"] = \"NY\"\n",
    "df.loc[379174, \"State\"] = \"UT\"\n",
    "df.loc[385418, \"State\"] = \"MO\"\n",
    "df.loc[869948, \"State\"] = \"TX\"\n",
    "df.loc[871847, \"State\"] = \"TX\"\n",
    "df.loc[885335, \"State\"] = \"TX\"\n",
    "df.loc[306274, \"State\"] = \"HI\"\n",
    "df.loc[351072, \"State\"] = \"TX\""
   ]
  },
  {
   "cell_type": "code",
   "execution_count": 74,
   "metadata": {},
   "outputs": [],
   "source": [
    "df[\"State\"].unique()\n",
    "encoder = OneHotEncoder(sparse_output=False)\n",
    "one_hot = encoder.fit_transform(df[['State']])\n",
    "regions_encoded = pd.DataFrame(one_hot, columns=encoder.get_feature_names_out(['State']))\n",
    "df = pd.concat([df, regions_encoded], axis=1)\n",
    "df = df.drop(columns=['State'])"
   ]
  },
  {
   "cell_type": "markdown",
   "metadata": {},
   "source": [
    "## Bank"
   ]
  },
  {
   "cell_type": "code",
   "execution_count": 75,
   "metadata": {},
   "outputs": [],
   "source": [
    "df[\"BankCount\"] = df[\"Bank\"].map(df[\"Bank\"].value_counts())"
   ]
  },
  {
   "cell_type": "code",
   "execution_count": 76,
   "metadata": {},
   "outputs": [],
   "source": [
    "df[\"SmallBank\"] = [1 if x < 1000 else 0 for x in df[\"BankCount\"]]\n",
    "df[\"MediumBank\"] = [1 if x > 1000 and x < 10000 else 0 for x in df[\"BankCount\"]]\n",
    "df[\"BigBank\"]= [1 if x > 10000 else 0 for x in df[\"BankCount\"]]"
   ]
  },
  {
   "cell_type": "code",
   "execution_count": 77,
   "metadata": {},
   "outputs": [
    {
     "data": {
      "text/html": [
       "<div>\n",
       "<style scoped>\n",
       "    .dataframe tbody tr th:only-of-type {\n",
       "        vertical-align: middle;\n",
       "    }\n",
       "\n",
       "    .dataframe tbody tr th {\n",
       "        vertical-align: top;\n",
       "    }\n",
       "\n",
       "    .dataframe thead th {\n",
       "        text-align: right;\n",
       "    }\n",
       "</style>\n",
       "<table border=\"1\" class=\"dataframe\">\n",
       "  <thead>\n",
       "    <tr style=\"text-align: right;\">\n",
       "      <th></th>\n",
       "      <th>SmallBank</th>\n",
       "      <th>MediumBank</th>\n",
       "      <th>BigBank</th>\n",
       "    </tr>\n",
       "  </thead>\n",
       "  <tbody>\n",
       "    <tr>\n",
       "      <th>0</th>\n",
       "      <td>0</td>\n",
       "      <td>1</td>\n",
       "      <td>0</td>\n",
       "    </tr>\n",
       "    <tr>\n",
       "      <th>1</th>\n",
       "      <td>1</td>\n",
       "      <td>0</td>\n",
       "      <td>0</td>\n",
       "    </tr>\n",
       "    <tr>\n",
       "      <th>2</th>\n",
       "      <td>1</td>\n",
       "      <td>0</td>\n",
       "      <td>0</td>\n",
       "    </tr>\n",
       "    <tr>\n",
       "      <th>3</th>\n",
       "      <td>1</td>\n",
       "      <td>0</td>\n",
       "      <td>0</td>\n",
       "    </tr>\n",
       "    <tr>\n",
       "      <th>4</th>\n",
       "      <td>0</td>\n",
       "      <td>1</td>\n",
       "      <td>0</td>\n",
       "    </tr>\n",
       "    <tr>\n",
       "      <th>...</th>\n",
       "      <td>...</td>\n",
       "      <td>...</td>\n",
       "      <td>...</td>\n",
       "    </tr>\n",
       "    <tr>\n",
       "      <th>899159</th>\n",
       "      <td>0</td>\n",
       "      <td>0</td>\n",
       "      <td>1</td>\n",
       "    </tr>\n",
       "    <tr>\n",
       "      <th>899160</th>\n",
       "      <td>0</td>\n",
       "      <td>0</td>\n",
       "      <td>1</td>\n",
       "    </tr>\n",
       "    <tr>\n",
       "      <th>899161</th>\n",
       "      <td>0</td>\n",
       "      <td>1</td>\n",
       "      <td>0</td>\n",
       "    </tr>\n",
       "    <tr>\n",
       "      <th>899162</th>\n",
       "      <td>0</td>\n",
       "      <td>1</td>\n",
       "      <td>0</td>\n",
       "    </tr>\n",
       "    <tr>\n",
       "      <th>899163</th>\n",
       "      <td>1</td>\n",
       "      <td>0</td>\n",
       "      <td>0</td>\n",
       "    </tr>\n",
       "  </tbody>\n",
       "</table>\n",
       "<p>899164 rows × 3 columns</p>\n",
       "</div>"
      ],
      "text/plain": [
       "        SmallBank  MediumBank  BigBank\n",
       "0               0           1        0\n",
       "1               1           0        0\n",
       "2               1           0        0\n",
       "3               1           0        0\n",
       "4               0           1        0\n",
       "...           ...         ...      ...\n",
       "899159          0           0        1\n",
       "899160          0           0        1\n",
       "899161          0           1        0\n",
       "899162          0           1        0\n",
       "899163          1           0        0\n",
       "\n",
       "[899164 rows x 3 columns]"
      ]
     },
     "execution_count": 77,
     "metadata": {},
     "output_type": "execute_result"
    }
   ],
   "source": [
    "df[[\"SmallBank\", \"MediumBank\", \"BigBank\"]]"
   ]
  },
  {
   "cell_type": "markdown",
   "metadata": {},
   "source": [
    "## Term"
   ]
  },
  {
   "cell_type": "code",
   "execution_count": 78,
   "metadata": {},
   "outputs": [],
   "source": [
    "# df[\"term_atypique\"] = (df[\"Term\"] == 0).astype(int)"
   ]
  },
  {
   "cell_type": "markdown",
   "metadata": {},
   "source": [
    "## NAICS"
   ]
  },
  {
   "cell_type": "code",
   "execution_count": 79,
   "metadata": {},
   "outputs": [
    {
     "data": {
      "text/plain": [
       "np.False_"
      ]
     },
     "execution_count": 79,
     "metadata": {},
     "output_type": "execute_result"
    }
   ],
   "source": [
    "df[\"NAICS\"].isnull().any()"
   ]
  },
  {
   "cell_type": "code",
   "execution_count": 80,
   "metadata": {},
   "outputs": [],
   "source": [
    "df['test'] = df['Name'].str.contains(\"CAFE|BAKERY|QUIZNO'S|PIZZA|MOTEL|SANDWICH|SUBS|CREAM|BAR A| BAR &|RESTAURANT|GRILL|HOT DOG|Deli|BURGER|BBQ|WOK|Thai|Taste of|Kitchen|COFFEE\",case=False)\n",
    "df['test3'] = df['Name'].str.contains('FARMS|FISHING|FORESTRY|POULTRY',case=False)\n",
    "df['test4'] = df['Name'].str.contains('CHILD CARE|PRESCHOOL|FAMILY CLINIC|DENTAL|CHIROPRACTIC|MEDICAL|MD',case=False)\n",
    "df['test5'] = df['Name'].str.contains('CONSTRUCTION|Build|CONCRETE|GLASS|Plumbing',case=False)\n",
    "df['test8'] = df['Name'].str.contains('INSURANCE|FINANCE|BANK|INVESTMENTS|MORTGAGE|AGENCY',case=False)\n",
    "df['test53'] = df['Name'].str.contains('ESTATE|Properties|Ventures|RENT',case=False)\n",
    "df['test9'] = df['Name'].str.contains('TRANSPORT|TRUCKING|LIMOUSINE|Logistics|Movers|Supply Chain',case=False)\n",
    "df['test10'] = df['Name'].str.contains('WASTE|SECURITY|LANDSCAPE|TRAVEL|CLEANING|LANDSCAPING',case=False)\n",
    "df['test11'] = df['Name'].str.contains('MANUFACTURING|MACHINE|CUSTOM|PRECISION|TOOL',case=False)\n",
    "df['test12'] = df['Name'].str.contains('WAREHOUS',case=False)\n",
    "df['test13'] = df['Name'].str.contains('PAWN|JEWELRY|BRIDAL|GIFTS|FLOWERS|FLORAL|LIQUOR|MARKET|HARDWARE|STORE',case=False)\n",
    "df['test14'] = df['Name'].str.contains('HAIR|BARBER|FUNERAL|SPA|COLLISION',case=False)\n",
    "df['test16'] = df['Name'].str.contains('BOWLING|GOLF|Martial Arts|WEIGHT LOSS|GYM|HOBBY|FITNESS',case=False)\n",
    "df['test22'] = df['Name'].str.contains('IRRIGATION',case=False)\n",
    "df['test42'] = df['Name'].str.contains('TRADING|',case=False)\n",
    "df['test51'] = df['Name'].str.contains('WIRELESS|COMMUNICATIONS',case=False)\n",
    "df['test61'] = df['Name'].str.contains('LEARNING|SCHOOL',case=False)\n",
    "df['test54'] = df['Name'].str.contains('VETERINARY|ANIMAL|HOSPITAL',case=False)\n",
    "df['72'] = [72 if x==True  else 0 for x in df['test']]\n",
    "df['53'] = [53 if x==True  else 0 for x in df['test']]\n",
    "df['11'] = [11 if x==True  else 0 for x in df['test3']]\n",
    "df['62'] = [62 if x==True  else 0 for x in df['test4']]\n",
    "df['23'] = [23 if x==True  else 0 for x in df['test5']]\n",
    "df['52'] = [52 if x==True  else 0 for x in df['test8']]\n",
    "df['48'] = [48 if x==True  else 0 for x in df['test9']]\n",
    "df['56'] = [56 if x==True  else 0 for x in df['test10']]\n",
    "df['31'] = [31 if x==True  else 0 for x in df['test11']]\n",
    "df['48'] = [48 if x==True  else 0 for x in df['test12']]\n",
    "df['44'] = [44 if x==True  else 0 for x in df['test13']]\n",
    "df['81'] = [81 if x==True  else 0 for x in df['test14']]\n",
    "df['71'] = [71 if x==True  else 0 for x in df['test16']]\n",
    "df['22'] = [22 if x==True  else 0 for x in df['test22']]\n",
    "df['51'] = [51 if x==True  else 0 for x in df['test51']]\n",
    "df['61'] = [61 if x==True  else 0 for x in df['test61']]\n",
    "df['42'] = [42 if x==True  else 0 for x in df['test42']]\n",
    "df['54'] = [54 if x==True  else 0 for x in df['test54']]\n",
    "\n",
    "df['NAICS'] = np.where(df['NAICS'] == 0, df['72']+df['54']+df['42'] +df['61']+ df['51']+df['22']+df['53']+df['81']+df['11'] +df['62'] +df['23'] +df['52'] +df['48'] +df['56'] +df['31']+df['48']+df['44'] +df['81'] + df['71'], df['NAICS'])"
   ]
  },
  {
   "cell_type": "code",
   "execution_count": 81,
   "metadata": {},
   "outputs": [],
   "source": [
    "df[\"NAICS\"] = df['NAICS'].astype(str).str[0:2]"
   ]
  },
  {
   "cell_type": "code",
   "execution_count": 82,
   "metadata": {},
   "outputs": [
    {
     "data": {
      "text/plain": [
       "0     True\n",
       "1    False\n",
       "2    False\n",
       "Name: test16, dtype: object"
      ]
     },
     "execution_count": 82,
     "metadata": {},
     "output_type": "execute_result"
    }
   ],
   "source": [
    "df['test16'].head(3)"
   ]
  },
  {
   "cell_type": "code",
   "execution_count": 83,
   "metadata": {},
   "outputs": [],
   "source": [
    "# df['NAICS'] = np.where(df['NAICS'] == 0, , df['NAICS'])"
   ]
  },
  {
   "cell_type": "markdown",
   "metadata": {},
   "source": [
    "## NewExist"
   ]
  },
  {
   "cell_type": "code",
   "execution_count": 84,
   "metadata": {},
   "outputs": [
    {
     "data": {
      "text/plain": [
       "array([ 2.,  1.,  0., nan])"
      ]
     },
     "execution_count": 84,
     "metadata": {},
     "output_type": "execute_result"
    }
   ],
   "source": [
    "df['NewExist'].unique()"
   ]
  },
  {
   "cell_type": "code",
   "execution_count": 85,
   "metadata": {},
   "outputs": [
    {
     "data": {
      "text/plain": [
       "count    899164.000000\n",
       "mean          8.430376\n",
       "std         236.688165\n",
       "min           0.000000\n",
       "25%           0.000000\n",
       "50%           0.000000\n",
       "75%           1.000000\n",
       "max        8800.000000\n",
       "Name: CreateJob, dtype: float64"
      ]
     },
     "execution_count": 85,
     "metadata": {},
     "output_type": "execute_result"
    }
   ],
   "source": [
    "df[\"CreateJob\"].describe()"
   ]
  },
  {
   "cell_type": "code",
   "execution_count": 86,
   "metadata": {},
   "outputs": [
    {
     "data": {
      "text/plain": [
       "NewExist\n",
       "1.0    644869\n",
       "2.0    253125\n",
       "0.0      1034\n",
       "Name: count, dtype: int64"
      ]
     },
     "execution_count": 86,
     "metadata": {},
     "output_type": "execute_result"
    }
   ],
   "source": [
    "df[\"NewExist\"].value_counts()"
   ]
  },
  {
   "cell_type": "code",
   "execution_count": 87,
   "metadata": {},
   "outputs": [],
   "source": [
    "df[\"NewExist\"] = df[\"NewExist\"].fillna(0) "
   ]
  },
  {
   "cell_type": "code",
   "execution_count": 88,
   "metadata": {},
   "outputs": [],
   "source": [
    "df[\"NewExist\"] = df[\"NewExist\"].replace(0, 1)"
   ]
  },
  {
   "cell_type": "markdown",
   "metadata": {},
   "source": [
    "## ApprovalFY"
   ]
  },
  {
   "cell_type": "code",
   "execution_count": 89,
   "metadata": {},
   "outputs": [],
   "source": [
    "df[\"ApprovalFY\"] = df[\"ApprovalFY\"].replace(\"1976A\", \"1976\")"
   ]
  },
  {
   "cell_type": "code",
   "execution_count": 90,
   "metadata": {},
   "outputs": [],
   "source": [
    "df['ApprovalFY'] = df['ApprovalFY'].astype(int)\n",
    "df['Recession'] = [1 if x in [1973, 1974, 1980, 1981, 1982, 2001, 2007,2008] else 0 for x in df['ApprovalFY']]"
   ]
  },
  {
   "cell_type": "markdown",
   "metadata": {},
   "source": [
    "## CreateJob"
   ]
  },
  {
   "cell_type": "code",
   "execution_count": 91,
   "metadata": {},
   "outputs": [],
   "source": [
    "# creation_faible = df[\"CreateJob\"].quantile(0.25) #les entreprises dont le nombre d'emplois créés est inférieur au 25ème percentile (les 25% les plus bas).\n",
    "# creation_elevee = df[\"CreateJob\"].quantile(0.75) #les entreprises dont le nombre d'emplois créés est superieur au 75ème percentile (les 25% les plus haut).\n",
    "# creation_extreme = df[\"CreateJob\"].quantile(0.95) #supérieur au 95eme percentile\n"
   ]
  },
  {
   "cell_type": "markdown",
   "metadata": {},
   "source": [
    "## RetainedJob"
   ]
  },
  {
   "cell_type": "markdown",
   "metadata": {},
   "source": [
    "## FranchiseCode"
   ]
  },
  {
   "cell_type": "code",
   "execution_count": 92,
   "metadata": {},
   "outputs": [],
   "source": [
    "df[\"FranchiseCode\"] = df[\"FranchiseCode\"].apply(lambda x: 0 if x == 0 else 1)\n",
    "#0 si ce n'est pas une franchise\n",
    "#1 si c'est une franchise\n"
   ]
  },
  {
   "cell_type": "markdown",
   "metadata": {},
   "source": [
    "## RevLine"
   ]
  },
  {
   "cell_type": "code",
   "execution_count": 93,
   "metadata": {},
   "outputs": [],
   "source": [
    "df[\"RevLineCr\"] = [\"1\" if x == \"Y\" or x == \"1\" else \"0\" for x in df[\"RevLineCr\"]]"
   ]
  },
  {
   "cell_type": "markdown",
   "metadata": {},
   "source": [
    "## LowDoc"
   ]
  },
  {
   "cell_type": "code",
   "execution_count": 94,
   "metadata": {},
   "outputs": [],
   "source": [
    "# (0, 1, A, C, R, S); \n",
    "# Y = Y, 1\n",
    "# N = \n",
    "# moins de 150k 1 page donc Y"
   ]
  },
  {
   "cell_type": "code",
   "execution_count": 95,
   "metadata": {},
   "outputs": [],
   "source": [
    "df[\"DisbursementGross\"] = df[\"DisbursementGross\"].str.replace(\"$\", \"\").str.replace(\",\", \"\").str.replace(\" \",\"\").astype(float)"
   ]
  },
  {
   "cell_type": "code",
   "execution_count": 96,
   "metadata": {},
   "outputs": [],
   "source": [
    "df[\"LowDoc\"] = [1 if x < 150000 else 0 for x in df[\"DisbursementGross\"]]\n",
    "\n"
   ]
  },
  {
   "cell_type": "markdown",
   "metadata": {},
   "source": [
    "## GrAppv"
   ]
  },
  {
   "cell_type": "code",
   "execution_count": 97,
   "metadata": {},
   "outputs": [],
   "source": [
    "df[\"GrAppv\"] = df[\"GrAppv\"].str.replace(\"$\", \"\").str.replace(\",\", \"\").str.replace(\" \",\"\").astype(float)"
   ]
  },
  {
   "cell_type": "markdown",
   "metadata": {},
   "source": [
    "## MIS_Status"
   ]
  },
  {
   "cell_type": "code",
   "execution_count": 98,
   "metadata": {},
   "outputs": [],
   "source": [
    "df[\"MIS_Status\"] = df[\"ChgOffDate\"].apply(lambda x: 0 if pd.notnull(x) else 1)\n",
    "\n",
    "# MIS_Status = 0 si ChgOffDate est renseigné (prêt radié)\n",
    "# MIS_Status = 1 si ChgOffDate est vide (prêt non radié)"
   ]
  },
  {
   "cell_type": "code",
   "execution_count": 99,
   "metadata": {},
   "outputs": [],
   "source": [
    "df[\"SBA_Appv\"] = df[\"SBA_Appv\"].str.replace(\"$\", \"\").str.replace(\",\", \"\").str.replace(\" \",\"\").astype(float)"
   ]
  },
  {
   "cell_type": "code",
   "execution_count": 100,
   "metadata": {},
   "outputs": [
    {
     "data": {
      "text/plain": [
       "0     48000.0\n",
       "1     32000.0\n",
       "2    215250.0\n",
       "3     28000.0\n",
       "4    229000.0\n",
       "Name: SBA_Appv, dtype: float64"
      ]
     },
     "execution_count": 100,
     "metadata": {},
     "output_type": "execute_result"
    }
   ],
   "source": [
    "df[\"SBA_Appv\"].head(5)"
   ]
  },
  {
   "cell_type": "markdown",
   "metadata": {},
   "source": [
    "## Autres colonnes"
   ]
  },
  {
   "cell_type": "code",
   "execution_count": 101,
   "metadata": {},
   "outputs": [],
   "source": [
    "df = df.drop(columns=['ApprovalFY','LoanNr_ChkDgt','Bank','BankState','Name', 'City', 'Zip', 'ApprovalDate','ChgOffDate','DisbursementDate','DisbursementGross','BalanceGross','ChgOffPrinGr', 'test', 'test3', 'test4', 'test5', 'test8', 'test53', 'test9', 'test10', 'test11', 'test12', 'test13', 'test14', 'test16', 'test22', 'test42', 'test51', 'test61', 'test54' ])"
   ]
  },
  {
   "cell_type": "markdown",
   "metadata": {},
   "source": [
    "'72', '54', '42', '61', '51', '22', '53', '81', '11', '62', '23', '52', '48', '56', '31', '48', '44', '81', '71'"
   ]
  },
  {
   "cell_type": "code",
   "execution_count": 102,
   "metadata": {},
   "outputs": [
    {
     "data": {
      "text/plain": [
       "NAICS        False\n",
       "Term         False\n",
       "NoEmp        False\n",
       "NewExist     False\n",
       "CreateJob    False\n",
       "             ...  \n",
       "51           False\n",
       "61           False\n",
       "42           False\n",
       "54           False\n",
       "Recession    False\n",
       "Length: 86, dtype: bool"
      ]
     },
     "execution_count": 102,
     "metadata": {},
     "output_type": "execute_result"
    }
   ],
   "source": [
    "df.isna().any()"
   ]
  },
  {
   "cell_type": "code",
   "execution_count": 103,
   "metadata": {},
   "outputs": [
    {
     "data": {
      "text/plain": [
       "BankCount    True\n",
       "dtype: bool"
      ]
     },
     "execution_count": 103,
     "metadata": {},
     "output_type": "execute_result"
    }
   ],
   "source": [
    "df.isna().any()[df.isna().any()]\n"
   ]
  },
  {
   "cell_type": "code",
   "execution_count": 104,
   "metadata": {},
   "outputs": [],
   "source": [
    "df.to_csv(\"/home/sami/Documents/Dev_IA/Data-Scientist-US-SBA/dataset_cleaned.csv\", index=False)"
   ]
  }
 ],
 "metadata": {
  "kernelspec": {
   "display_name": ".venv",
   "language": "python",
   "name": "python3"
  },
  "language_info": {
   "codemirror_mode": {
    "name": "ipython",
    "version": 3
   },
   "file_extension": ".py",
   "mimetype": "text/x-python",
   "name": "python",
   "nbconvert_exporter": "python",
   "pygments_lexer": "ipython3",
   "version": "3.12.3"
  }
 },
 "nbformat": 4,
 "nbformat_minor": 2
}
